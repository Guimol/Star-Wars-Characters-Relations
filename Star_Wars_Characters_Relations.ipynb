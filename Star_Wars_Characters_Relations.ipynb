{
  "nbformat": 4,
  "nbformat_minor": 0,
  "metadata": {
    "colab": {
      "provenance": [],
      "collapsed_sections": [
        "YLVp2TAgeMd7",
        "t1PX_3zUcBh0"
      ],
      "authorship_tag": "ABX9TyP5TRvwcmmQSfK8ZQ+tOcIl",
      "include_colab_link": true
    },
    "kernelspec": {
      "name": "python3",
      "display_name": "Python 3"
    },
    "language_info": {
      "name": "python"
    }
  },
  "cells": [
    {
      "cell_type": "markdown",
      "metadata": {
        "id": "view-in-github",
        "colab_type": "text"
      },
      "source": [
        "<a href=\"https://colab.research.google.com/github/Guimol/Star-Wars-Characters-Relations/blob/main/Star_Wars_Characters_Relations.ipynb\" target=\"_parent\"><img src=\"https://colab.research.google.com/assets/colab-badge.svg\" alt=\"Open In Colab\"/></a>"
      ]
    },
    {
      "cell_type": "markdown",
      "source": [
        "# Importing Libraries"
      ],
      "metadata": {
        "id": "YLVp2TAgeMd7"
      }
    },
    {
      "cell_type": "code",
      "source": [
        "from io import open\n",
        "import requests"
      ],
      "metadata": {
        "id": "PeSmb0VyePsU"
      },
      "execution_count": null,
      "outputs": []
    },
    {
      "cell_type": "code",
      "source": [
        "import re"
      ],
      "metadata": {
        "id": "szR2eFkRn5_D"
      },
      "execution_count": null,
      "outputs": []
    },
    {
      "cell_type": "markdown",
      "source": [
        "# Files obtention\n",
        "* Path for the data file (external link): [Star Wars Movie Scripts](https://www.kaggle.com/datasets/xvivancos/star-wars-movie-scripts)\n",
        "* GitHub repository: [Star Wars Characters Relations](https://github.com/Guimol/Star-Wars-Characters-Relations)"
      ],
      "metadata": {
        "id": "t1PX_3zUcBh0"
      }
    },
    {
      "cell_type": "code",
      "execution_count": null,
      "metadata": {
        "id": "iBK_wviMW1Ta"
      },
      "outputs": [],
      "source": [
        "movie_files = {\n",
        "  \"movieIV\": \"https://raw.githubusercontent.com/Guimol/Star-Wars-Characters-Relations/main/datasets/SW_EpisodeIV.txt\",\n",
        "  \"movieV\": \"https://raw.githubusercontent.com/Guimol/Star-Wars-Characters-Relations/main/datasets/SW_EpisodeV.txt\",\n",
        "  \"movieVI\": \"https://raw.githubusercontent.com/Guimol/Star-Wars-Characters-Relations/main/datasets/SW_EpisodeVI.txt\",\n",
        "}\n",
        "\n",
        "# Initializing movie dictionaries\n",
        "movies = dict()\n",
        "\n",
        "# Creating local files for the corpus and opening them\n",
        "for title, link in movie_files.items():\n",
        "  # Access a link\n",
        "  r = requests.get(link, allow_redirects=True)\n",
        "\n",
        "  # Read file in the link and store it locally\n",
        "  open(title + '.txt', 'wb').write(r.content)\n",
        "  \n",
        "  # Fill the dictionary with data obtained in the local file\n",
        "  movies[title] = {\"raw\": open(title + '.txt', 'r').readlines()}"
      ]
    },
    {
      "cell_type": "markdown",
      "source": [
        "# Text Preprocessing"
      ],
      "metadata": {
        "id": "J24LYP5Zr5So"
      }
    },
    {
      "cell_type": "markdown",
      "source": [
        "Making the dialogs lower case"
      ],
      "metadata": {
        "id": "L1CyOM0xtWng"
      }
    },
    {
      "cell_type": "code",
      "source": [
        "for title in movies:\n",
        "  movies[title]['lower'] = [line.lower() for line in movies[title]['raw']]"
      ],
      "metadata": {
        "id": "yeq2fZyOr7Z9"
      },
      "execution_count": null,
      "outputs": []
    },
    {
      "cell_type": "markdown",
      "source": [
        "# Characters Identification"
      ],
      "metadata": {
        "id": "L4lHb1EUhye5"
      }
    },
    {
      "cell_type": "markdown",
      "source": [
        "Character Class, stores all information regarding a character:\n",
        "* Name\n",
        "* Dialogs\n",
        "* Connections"
      ],
      "metadata": {
        "id": "cZVVovKNqPOr"
      }
    },
    {
      "cell_type": "code",
      "source": [
        "class Character:\n",
        "  def __init__(self, name: str):\n",
        "    self.name = name\n",
        "    self.dialogs = dict()\n",
        "    self.relation = dict()\n",
        "\n",
        "  def __str__(self):\n",
        "    return f\"{self.name}\"\n",
        "\n",
        "  def __repr__(self):\n",
        "    return f\"Class Character(name={self.name})\"\n",
        "\n",
        "  def __eq__(self, comparison):\n",
        "    if isinstance(comparison, Character):\n",
        "      return self.name == comparison.name\n",
        "    else:\n",
        "      return self.name == comparison\n",
        "\n",
        "  def init_relation(self, character: str):\n",
        "    self.relation[character] = {'positive': 0, 'negattive': 0}\n",
        "\n",
        "  def add_line(self, line_id: int, line: str):\n",
        "    self.dialogs[line_id] = line\n",
        "\n",
        "  def clear_dialogs(self):\n",
        "    self.dialogs.clear()"
      ],
      "metadata": {
        "id": "JaqNAoS_IgaJ"
      },
      "execution_count": 30,
      "outputs": []
    },
    {
      "cell_type": "markdown",
      "source": [
        "Iterate over a movie and adds each dialog associating them to a Character class"
      ],
      "metadata": {
        "id": "3bO3voE5qkkE"
      }
    },
    {
      "cell_type": "code",
      "source": [
        "character_list = list()\n",
        "\n",
        "for line in movies['movieIV']['lower']:\n",
        "\n",
        "  # RegEx to match text: \"text\" \"other text\" \"third text\" -> [text, other text, third text]\n",
        "  text = re.split('\\\"(.*?)\\\"', line.strip())\n",
        "\n",
        "  # Remove unwanted strings obtained by RegEx\n",
        "  text = list(filter(lambda x: x not in ['', ' '], text))\n",
        "\n",
        "  # Flag to create a new character\n",
        "  found = False\n",
        "  \n",
        "  # If line in the pattern: \"<line_number>\" \"<character_name>\" \"<dialog>\"\n",
        "  if len(text) == 3:\n",
        "    #Remove \" from the preprocessed text\n",
        "    text = [x.replace(\"\\\"\", \"\") for x in text]\n",
        "    character_name = text[1]\n",
        "\n",
        "    # Look for already created Character\n",
        "    for index, element in enumerate(character_list):\n",
        "      if character_name == element:\n",
        "        character_list[index].add_line(int(text[0]), text[2])\n",
        "        found = True\n",
        "    # Create new Character\n",
        "    if not found:\n",
        "      character_list.append(Character(character_name))"
      ],
      "metadata": {
        "id": "TPGXnDJyggpA"
      },
      "execution_count": 31,
      "outputs": []
    },
    {
      "cell_type": "markdown",
      "source": [
        "# Initialize relations"
      ],
      "metadata": {
        "id": "_YvnsMKoea7n"
      }
    },
    {
      "cell_type": "markdown",
      "source": [
        "For each character initialize a dict showing if their relation is positive or negative"
      ],
      "metadata": {
        "id": "XA647NfajTYk"
      }
    },
    {
      "cell_type": "code",
      "source": [
        "for character in character_list:\n",
        "  for relation_character in character_list:\n",
        "    if not character == relation_character:\n",
        "      character.init_relation(relation_character.name)"
      ],
      "metadata": {
        "id": "WtvOl5wQeacj"
      },
      "execution_count": 32,
      "outputs": []
    },
    {
      "cell_type": "code",
      "source": [
        "character_list[0].relation.keys()"
      ],
      "metadata": {
        "colab": {
          "base_uri": "https://localhost:8080/"
        },
        "id": "mmCTRH4Mg4m8",
        "outputId": "7cfdaf8d-5cf1-44d9-963b-28980a89295f"
      },
      "execution_count": null,
      "outputs": [
        {
          "output_type": "execute_result",
          "data": {
            "text/plain": [
              "dict_keys(['luke', 'imperial officer', 'vader', 'rebel officer', 'trooper', 'chief pilot', 'captain', 'woman', 'fixer', 'camie', 'biggs', 'deak', 'leia', 'commander', 'second officer', 'first trooper', 'second trooper', 'beru', 'owen', 'aunt beru', 'ben', 'tagge', 'motti', 'tarkin', 'bartender', 'creature', 'human', 'han', 'greedo', 'jabba', 'officer cass', 'voice over death star intercom', 'officer', 'voice', 'gantry officer', 'intercom voice', 'trooper voice', 'first officer', 'willard', 'death star intercom voice', 'dodonna', 'gold leader', 'wedge', 'man', 'red leader', 'chief', 'massassi intercom voice', 'red ten', 'red seven', 'porkins', 'red nine', 'red eleven', 'astro-officer', 'control officer', 'gold five', 'gold two', 'wingman', 'base voice', 'technician'])"
            ]
          },
          "metadata": {},
          "execution_count": 26
        }
      ]
    }
  ]
}