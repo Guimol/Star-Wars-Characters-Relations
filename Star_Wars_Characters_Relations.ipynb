{
  "nbformat": 4,
  "nbformat_minor": 0,
  "metadata": {
    "colab": {
      "provenance": [],
      "collapsed_sections": [
        "YLVp2TAgeMd7",
        "t1PX_3zUcBh0"
      ],
      "authorship_tag": "ABX9TyMBX7UNg3+pDd3bLi2BD3Ke",
      "include_colab_link": true
    },
    "kernelspec": {
      "name": "python3",
      "display_name": "Python 3"
    },
    "language_info": {
      "name": "python"
    }
  },
  "cells": [
    {
      "cell_type": "markdown",
      "metadata": {
        "id": "view-in-github",
        "colab_type": "text"
      },
      "source": [
        "<a href=\"https://colab.research.google.com/github/Guimol/Star-Wars-Characters-Relations/blob/main/Star_Wars_Characters_Relations.ipynb\" target=\"_parent\"><img src=\"https://colab.research.google.com/assets/colab-badge.svg\" alt=\"Open In Colab\"/></a>"
      ]
    },
    {
      "cell_type": "markdown",
      "source": [
        "###### Change page's CSS to be more visually appealing"
      ],
      "metadata": {
        "id": "mkKsfq78tokf"
      }
    },
    {
      "cell_type": "code",
      "source": [
        "from IPython.display import HTML, display\n",
        "\n",
        "def set_css():\n",
        "  display(HTML('''\n",
        "  <style>\n",
        "    pre {\n",
        "        white-space: pre-wrap;\n",
        "    }\n",
        "  </style>\n",
        "  '''))\n",
        "get_ipython().events.register('pre_run_cell', set_css)"
      ],
      "metadata": {
        "id": "RnF8I2ontxBD"
      },
      "execution_count": 1,
      "outputs": []
    },
    {
      "cell_type": "markdown",
      "source": [
        "# Importing Libraries"
      ],
      "metadata": {
        "id": "YLVp2TAgeMd7"
      }
    },
    {
      "cell_type": "code",
      "source": [
        "from io import open\n",
        "import requests"
      ],
      "metadata": {
        "id": "PeSmb0VyePsU",
        "colab": {
          "base_uri": "https://localhost:8080/",
          "height": 0
        },
        "outputId": "f6e651f2-8f73-41da-afb4-3768f7fff94a"
      },
      "execution_count": 2,
      "outputs": [
        {
          "output_type": "display_data",
          "data": {
            "text/plain": [
              "<IPython.core.display.HTML object>"
            ],
            "text/html": [
              "\n",
              "  <style>\n",
              "    pre {\n",
              "        white-space: pre-wrap;\n",
              "    }\n",
              "  </style>\n",
              "  "
            ]
          },
          "metadata": {}
        }
      ]
    },
    {
      "cell_type": "code",
      "source": [
        "import re"
      ],
      "metadata": {
        "id": "szR2eFkRn5_D",
        "colab": {
          "base_uri": "https://localhost:8080/",
          "height": 0
        },
        "outputId": "fc08dd62-1f66-4586-b5aa-4991a6eb6499"
      },
      "execution_count": 3,
      "outputs": [
        {
          "output_type": "display_data",
          "data": {
            "text/plain": [
              "<IPython.core.display.HTML object>"
            ],
            "text/html": [
              "\n",
              "  <style>\n",
              "    pre {\n",
              "        white-space: pre-wrap;\n",
              "    }\n",
              "  </style>\n",
              "  "
            ]
          },
          "metadata": {}
        }
      ]
    },
    {
      "cell_type": "markdown",
      "source": [
        "# Files obtention\n",
        "* Path for the data file (external link): [Star Wars Movie Scripts](https://www.kaggle.com/datasets/xvivancos/star-wars-movie-scripts)\n",
        "* GitHub repository: [Star Wars Characters Relations](https://github.com/Guimol/Star-Wars-Characters-Relations)"
      ],
      "metadata": {
        "id": "t1PX_3zUcBh0"
      }
    },
    {
      "cell_type": "code",
      "execution_count": 4,
      "metadata": {
        "id": "iBK_wviMW1Ta",
        "colab": {
          "base_uri": "https://localhost:8080/",
          "height": 17
        },
        "outputId": "5260cf94-3f15-41cf-c889-9f52a64efb79"
      },
      "outputs": [
        {
          "output_type": "display_data",
          "data": {
            "text/plain": [
              "<IPython.core.display.HTML object>"
            ],
            "text/html": [
              "\n",
              "  <style>\n",
              "    pre {\n",
              "        white-space: pre-wrap;\n",
              "    }\n",
              "  </style>\n",
              "  "
            ]
          },
          "metadata": {}
        }
      ],
      "source": [
        "movie_files = {\n",
        "  \"movieIV\": \"https://raw.githubusercontent.com/Guimol/Star-Wars-Characters-Relations/main/datasets/SW_EpisodeIV.txt\",\n",
        "  \"movieV\": \"https://raw.githubusercontent.com/Guimol/Star-Wars-Characters-Relations/main/datasets/SW_EpisodeV.txt\",\n",
        "  \"movieVI\": \"https://raw.githubusercontent.com/Guimol/Star-Wars-Characters-Relations/main/datasets/SW_EpisodeVI.txt\",\n",
        "}\n",
        "\n",
        "# Initializing movie dictionaries\n",
        "movies = dict()\n",
        "\n",
        "# Creating local files for the corpus and opening them\n",
        "for title, link in movie_files.items():\n",
        "  # Access a link\n",
        "  r = requests.get(link, allow_redirects=True)\n",
        "\n",
        "  # Read file in the link and store it locally\n",
        "  open(title + '.txt', 'wb').write(r.content)\n",
        "  \n",
        "  # Fill the dictionary with data obtained in the local file\n",
        "  movies[title] = {\"raw\": open(title + '.txt', 'r').readlines()}"
      ]
    },
    {
      "cell_type": "markdown",
      "source": [
        "# Text Preprocessing"
      ],
      "metadata": {
        "id": "J24LYP5Zr5So"
      }
    },
    {
      "cell_type": "markdown",
      "source": [
        "Making the dialogs lower case"
      ],
      "metadata": {
        "id": "L1CyOM0xtWng"
      }
    },
    {
      "cell_type": "code",
      "source": [
        "for title in movies:\n",
        "  movies[title]['lower'] = [line.lower() for line in movies[title]['raw']]"
      ],
      "metadata": {
        "id": "yeq2fZyOr7Z9",
        "colab": {
          "base_uri": "https://localhost:8080/",
          "height": 17
        },
        "outputId": "d9a740c5-58f7-468e-eaea-eff189566112"
      },
      "execution_count": 5,
      "outputs": [
        {
          "output_type": "display_data",
          "data": {
            "text/plain": [
              "<IPython.core.display.HTML object>"
            ],
            "text/html": [
              "\n",
              "  <style>\n",
              "    pre {\n",
              "        white-space: pre-wrap;\n",
              "    }\n",
              "  </style>\n",
              "  "
            ]
          },
          "metadata": {}
        }
      ]
    },
    {
      "cell_type": "markdown",
      "source": [
        "# Characters Identification"
      ],
      "metadata": {
        "id": "L4lHb1EUhye5"
      }
    },
    {
      "cell_type": "markdown",
      "source": [
        "Character Class, stores all information regarding a character:\n",
        "* Name\n",
        "* Dialogs\n",
        "* Connections"
      ],
      "metadata": {
        "id": "cZVVovKNqPOr"
      }
    },
    {
      "cell_type": "code",
      "source": [
        "class Character:\n",
        "  def __init__(self, name: str):\n",
        "    self.name = name\n",
        "    self.dialogs = dict()\n",
        "    self.relation = dict()\n",
        "\n",
        "  def __str__(self):\n",
        "    return f\"{self.name}\"\n",
        "\n",
        "  def __repr__(self):\n",
        "    return f\"Class Character(name={self.name})\"\n",
        "\n",
        "  def __eq__(self, comparison):\n",
        "    if isinstance(comparison, Character):\n",
        "      return self.name == comparison.name\n",
        "    else:\n",
        "      return self.name == comparison\n",
        "\n",
        "  def __hash__(self):\n",
        "    return hash(self.name)\n",
        "\n",
        "  def init_relation(self, character: str):\n",
        "    self.relation[character] = {'positive': 0, 'negattive': 0}\n",
        "\n",
        "  def add_line(self, line_id: int, line: str):\n",
        "    self.dialogs[line_id] = {'dialog': line, 'next': None}\n",
        "\n",
        "  def point_next_character(self, line_id: int, next_character: str):\n",
        "    self.dialogs[line_id]['next'] = next_character\n",
        "\n",
        "  def clear_dialogs(self):\n",
        "    self.dialogs.clear()"
      ],
      "metadata": {
        "id": "JaqNAoS_IgaJ",
        "colab": {
          "base_uri": "https://localhost:8080/",
          "height": 17
        },
        "outputId": "46ce6abd-6f88-48ea-9d07-bbf3808b5600"
      },
      "execution_count": 17,
      "outputs": [
        {
          "output_type": "display_data",
          "data": {
            "text/plain": [
              "<IPython.core.display.HTML object>"
            ],
            "text/html": [
              "\n",
              "  <style>\n",
              "    pre {\n",
              "        white-space: pre-wrap;\n",
              "    }\n",
              "  </style>\n",
              "  "
            ]
          },
          "metadata": {}
        }
      ]
    },
    {
      "cell_type": "markdown",
      "source": [
        "Iterate over a movie and adds each dialog associating them to a Character class"
      ],
      "metadata": {
        "id": "3bO3voE5qkkE"
      }
    },
    {
      "cell_type": "code",
      "source": [
        "character_dict = dict()\n",
        "\n",
        "for idx, line in enumerate(movies['movieIV']['lower']):\n",
        "  # RegEx to match text: \"text\" \"other text\" \"third text\" -> [text, other text, third text]\n",
        "  text = re.split('\\\"(.*?)\\\"', line.strip())\n",
        "\n",
        "  # Remove unwanted strings obtained by RegEx\n",
        "  text = list(filter(lambda x: x not in ['', ' '], text))\n",
        "\n",
        "  # Flag to create a new character\n",
        "  found = False\n",
        "  \n",
        "  # If line in the pattern: \"<line_number>\" \"<character_name>\" \"<dialog>\"\n",
        "  if len(text) >= 3:\n",
        "    # Remove \" from the preprocessed text\n",
        "    text = [x.replace(\"\\\"\", \"\") for x in text]\n",
        "\n",
        "    # Joins the remainder text together\n",
        "    if len(text) > 3:\n",
        "      text[2] = ('').join(text[2:])\n",
        "\n",
        "    # Extracts current character's name\n",
        "    character_name = text[1]\n",
        "    \n",
        "    # Skips first line\n",
        "    if idx != 1:\n",
        "      # Points the previous character to current character\n",
        "      previous_character.point_next_character(int(text[0]) - 1, character_name)\n",
        "\n",
        "    # Checks if current character is new on the dict\n",
        "    if character_name not in character_dict:\n",
        "      character_dict.update({character_name: Character(character_name)})\n",
        "\n",
        "    # Adds current line to character class\n",
        "    character_dict[character_name].add_line(int(text[0]), text[2])\n",
        "    \n",
        "    # Overwrites previous character variable\n",
        "    previous_character = character_dict[character_name]"
      ],
      "metadata": {
        "id": "cPE_j-3dmixh"
      },
      "execution_count": null,
      "outputs": []
    },
    {
      "cell_type": "markdown",
      "source": [
        "# Initialize relations"
      ],
      "metadata": {
        "id": "_YvnsMKoea7n"
      }
    },
    {
      "cell_type": "markdown",
      "source": [
        "For each character initialize a dict showing if their relation is positive or negative"
      ],
      "metadata": {
        "id": "XA647NfajTYk"
      }
    },
    {
      "cell_type": "code",
      "source": [
        "for character in character_list:\n",
        "  for relation_character in character_list:\n",
        "    if not character == relation_character:\n",
        "      character.init_relation(relation_character.name)"
      ],
      "metadata": {
        "id": "WtvOl5wQeacj"
      },
      "execution_count": null,
      "outputs": []
    },
    {
      "cell_type": "code",
      "source": [
        "character_list[0].relation.keys()"
      ],
      "metadata": {
        "id": "mmCTRH4Mg4m8"
      },
      "execution_count": null,
      "outputs": []
    }
  ]
}