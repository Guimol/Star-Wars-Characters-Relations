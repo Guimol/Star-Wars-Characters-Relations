{
  "nbformat": 4,
  "nbformat_minor": 0,
  "metadata": {
    "colab": {
      "provenance": [],
      "collapsed_sections": [
        "YLVp2TAgeMd7"
      ],
      "authorship_tag": "ABX9TyMflLnuvKQXNyEV6BoL0bCQ",
      "include_colab_link": true
    },
    "kernelspec": {
      "name": "python3",
      "display_name": "Python 3"
    },
    "language_info": {
      "name": "python"
    }
  },
  "cells": [
    {
      "cell_type": "markdown",
      "metadata": {
        "id": "view-in-github",
        "colab_type": "text"
      },
      "source": [
        "<a href=\"https://colab.research.google.com/github/Guimol/Star-Wars-Characters-Relations/blob/main/Star_Wars_Characters_Relations.ipynb\" target=\"_parent\"><img src=\"https://colab.research.google.com/assets/colab-badge.svg\" alt=\"Open In Colab\"/></a>"
      ]
    },
    {
      "cell_type": "markdown",
      "source": [
        "# Importing Libraries"
      ],
      "metadata": {
        "id": "YLVp2TAgeMd7"
      }
    },
    {
      "cell_type": "code",
      "source": [
        "from io import open\n",
        "import requests"
      ],
      "metadata": {
        "id": "PeSmb0VyePsU"
      },
      "execution_count": 10,
      "outputs": []
    },
    {
      "cell_type": "code",
      "source": [
        "import re"
      ],
      "metadata": {
        "id": "szR2eFkRn5_D"
      },
      "execution_count": 36,
      "outputs": []
    },
    {
      "cell_type": "markdown",
      "source": [
        "# Files obtention\n",
        "* Path for the data file (external link): [Star Wars Movie Scripts](https://www.kaggle.com/datasets/xvivancos/star-wars-movie-scripts)\n",
        "* GitHub repository: [Star Wars Characters Relations](https://github.com/Guimol/Star-Wars-Characters-Relations)"
      ],
      "metadata": {
        "id": "t1PX_3zUcBh0"
      }
    },
    {
      "cell_type": "code",
      "execution_count": 17,
      "metadata": {
        "id": "iBK_wviMW1Ta"
      },
      "outputs": [],
      "source": [
        "movie_files = {\n",
        "  \"movieIV\": \"https://raw.githubusercontent.com/Guimol/Star-Wars-Characters-Relations/main/datasets/SW_EpisodeIV.txt\",\n",
        "  \"movieV\": \"https://raw.githubusercontent.com/Guimol/Star-Wars-Characters-Relations/main/datasets/SW_EpisodeV.txt\",\n",
        "  \"movieVI\": \"https://raw.githubusercontent.com/Guimol/Star-Wars-Characters-Relations/main/datasets/SW_EpisodeVI.txt\",\n",
        "}\n",
        "\n",
        "# Initializing movie dictionaries\n",
        "movies = dict()\n",
        "\n",
        "# Creating local files for the corpus and opening them\n",
        "for title, link in movie_files.items():\n",
        "  # Access a link\n",
        "  r = requests.get(link, allow_redirects=True)\n",
        "\n",
        "  # Read file in the link and store it locally\n",
        "  open(title + '.txt', 'wb').write(r.content)\n",
        "  \n",
        "  # Fill the dictionary with data obtained in the local file\n",
        "  movies[title] = {\"raw\": open(title + '.txt', 'r').readlines()}"
      ]
    },
    {
      "cell_type": "markdown",
      "source": [
        "# Characters Identification"
      ],
      "metadata": {
        "id": "L4lHb1EUhye5"
      }
    },
    {
      "cell_type": "code",
      "source": [
        "for line in movies['movieIV']['raw']:\n",
        "\n",
        "  # RegEx to match\n",
        "  text = re.split('\\\"(.*?)\\\"', line.strip())\n",
        "\n",
        "  text = list(filter(lambda x: x not in ['', ' '], text))\n",
        "  \n",
        "  if len(text) == 3:\n",
        "    character = text[1].replace(\"\\\"\", \"\")\n",
        "    movies['movieIV'][character] = text[2].replace(\"\\\"\", \"\")"
      ],
      "metadata": {
        "id": "zYEYkqYgh5sJ"
      },
      "execution_count": 44,
      "outputs": []
    },
    {
      "cell_type": "code",
      "source": [
        "len(movies['movieIV'].keys()) - 1"
      ],
      "metadata": {
        "colab": {
          "base_uri": "https://localhost:8080/"
        },
        "id": "aiPTo1bGdusQ",
        "outputId": "be3c8082-31c7-4605-831c-fa3087432b4c"
      },
      "execution_count": 48,
      "outputs": [
        {
          "output_type": "execute_result",
          "data": {
            "text/plain": [
              "60"
            ]
          },
          "metadata": {},
          "execution_count": 48
        }
      ]
    },
    {
      "cell_type": "code",
      "source": [],
      "metadata": {
        "id": "nhaVelgfd7Iw"
      },
      "execution_count": null,
      "outputs": []
    }
  ]
}